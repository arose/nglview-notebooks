{
 "cells": [
  {
   "cell_type": "code",
   "execution_count": 1,
   "metadata": {},
   "outputs": [],
   "source": [
    "import pytraj as pt\n",
    "import nglview as nv\n",
    "traj =  pt.load('sim.nc', top='sim.prmtop')[::2]"
   ]
  },
  {
   "cell_type": "code",
   "execution_count": 2,
   "metadata": {},
   "outputs": [
    {
     "data": {
      "application/vnd.jupyter.widget-view+json": {
       "model_id": "195989b990264569bf411704cba6b147",
       "version_major": 2,
       "version_minor": 0
      },
      "text/plain": [
       "NGLWidget(gui_style='ngl', max_frame=19)"
      ]
     },
     "metadata": {},
     "output_type": "display_data"
    }
   ],
   "source": [
    "view = nv.show_pytraj(traj, default=False)\n",
    "view.center()\n",
    "view.add_cartoon('protein', color_scheme='residueindex')\n",
    "view.add_ball_and_stick('not protein', opacity=0.8)\n",
    "view.control.orient([\n",
    "    81.75062988867545, 0, 0, 0, 0, 10.662220341760477, 81.05234447305604, 0, 0,\n",
    "    -81.05234447305604, 10.662220341760477, 0, -1.3896513494703824,\n",
    "    2.0140849203801907, -3.0259252966761565, 1\n",
    "])\n",
    "view.gui_style = 'ngl'\n",
    "view"
   ]
  }
 ],
 "metadata": {
  "kernelspec": {
   "display_name": "Python 3",
   "language": "python",
   "name": "python3"
  },
  "language_info": {
   "codemirror_mode": {
    "name": "ipython",
    "version": 3
   },
   "file_extension": ".py",
   "mimetype": "text/x-python",
   "name": "python",
   "nbconvert_exporter": "python",
   "pygments_lexer": "ipython3",
   "version": "3.7.3"
  }
 },
 "nbformat": 4,
 "nbformat_minor": 1
}
